{
 "cells": [
  {
   "cell_type": "code",
   "id": "initial_id",
   "metadata": {
    "collapsed": true,
    "ExecuteTime": {
     "end_time": "2024-11-20T16:52:22.938577Z",
     "start_time": "2024-11-20T16:52:22.935733Z"
    }
   },
   "source": [
    "import cv2\n",
    "import numpy as np"
   ],
   "outputs": [],
   "execution_count": 53
  },
  {
   "metadata": {
    "ExecuteTime": {
     "end_time": "2024-11-20T16:52:22.986200Z",
     "start_time": "2024-11-20T16:52:22.980993Z"
    }
   },
   "cell_type": "code",
   "source": "img = cv2.imread(cv2.samples.findFile('assets/Original-Form-2.jpg'))",
   "id": "daf1561b76592da6",
   "outputs": [],
   "execution_count": 54
  },
  {
   "metadata": {
    "ExecuteTime": {
     "end_time": "2024-11-20T16:52:23.031371Z",
     "start_time": "2024-11-20T16:52:23.026872Z"
    }
   },
   "cell_type": "code",
   "source": [
    "kernel = np.ones((5,5),np.uint8)\n",
    "img_morph = cv2.morphologyEx(img,cv2.MORPH_CLOSE,kernel,iterations=3)"
   ],
   "id": "5c3a2deba144f226",
   "outputs": [],
   "execution_count": 55
  },
  {
   "metadata": {
    "ExecuteTime": {
     "end_time": "2024-11-20T16:52:31.839947Z",
     "start_time": "2024-11-20T16:52:23.072773Z"
    }
   },
   "cell_type": "code",
   "source": [
    "img_grap_cut = img_morph.copy()\n",
    "mask = np.zeros(img_grap_cut.shape[:2],np.uint8)\n",
    "bgdModel = np.zeros((1,65),np.float64)\n",
    "fgdModel = np.zeros((1,65),np.float64)\n",
    "rect = (20,20,img_grap_cut.shape[1]-20,img_grap_cut.shape[0]-20)\n",
    "cv2.grabCut(img_grap_cut,mask,rect,bgdModel,fgdModel,5,cv2.GC_INIT_WITH_RECT)\n",
    "mask2 = np.where((mask==2)|(mask==0),0,1).astype('uint8')\n",
    "img_grap_cut = img_grap_cut*mask2[:,:,np.newaxis]"
   ],
   "id": "edb023d5d2584e46",
   "outputs": [],
   "execution_count": 56
  },
  {
   "metadata": {
    "ExecuteTime": {
     "end_time": "2024-11-20T16:52:31.856416Z",
     "start_time": "2024-11-20T16:52:31.851523Z"
    }
   },
   "cell_type": "code",
   "source": [
    "img_con = img_grap_cut.copy()\n",
    "gray = cv2.cvtColor(img_con, cv2.COLOR_BGR2GRAY)\n",
    "gray = cv2.GaussianBlur(gray, (11, 11), 0)\n",
    "# Edge Detection.\n",
    "canny = cv2.Canny(gray, 0, 200)\n",
    "canny = cv2.dilate(canny, cv2.getStructuringElement(cv2.MORPH_ELLIPSE, (5, 5)))"
   ],
   "id": "68f96930a0e7d945",
   "outputs": [],
   "execution_count": 57
  },
  {
   "metadata": {
    "ExecuteTime": {
     "end_time": "2024-11-20T16:52:31.929751Z",
     "start_time": "2024-11-20T16:52:31.894839Z"
    }
   },
   "cell_type": "code",
   "source": [
    "# Blank canvas.\n",
    "con = np.zeros_like(img_con)\n",
    "# Finding contours for the detected edges.\n",
    "contours, hierarchy = cv2.findContours(canny, cv2.RETR_LIST, cv2.CHAIN_APPROX_NONE)\n",
    "# Keeping only the largest detected contour.\n",
    "page = sorted(contours, key=cv2.contourArea, reverse=True)[:5]\n",
    "con = cv2.drawContours(con, page, -1, (0, 255, 255), 3)"
   ],
   "id": "af0b8ac6703c6295",
   "outputs": [],
   "execution_count": 58
  },
  {
   "metadata": {
    "ExecuteTime": {
     "end_time": "2024-11-20T16:52:46.700833Z",
     "start_time": "2024-11-20T16:52:42.416486Z"
    }
   },
   "cell_type": "code",
   "source": [
    "# Blank canvas.\n",
    "con = np.zeros_like(img)\n",
    "# Loop over the contours.\n",
    "for c in page:\n",
    "  # Approximate the contour.\n",
    "  epsilon = 0.02 * cv2.arcLength(c, True)\n",
    "  corners = cv2.approxPolyDP(c, epsilon, True)\n",
    "  # If our approximated contour has four points\n",
    "  if len(corners) == 4:\n",
    "      break\n",
    "cv2.drawContours(con, c, -1, (0, 255, 255), 3)\n",
    "cv2.drawContours(con, corners, -1, (0, 255, 0), 10)\n",
    "# Sorting the corners and converting them to desired shape.\n",
    "corners = sorted(np.concatenate(corners).tolist())\n",
    "\n",
    "# Displaying the corners.\n",
    "for index, c in enumerate(corners):\n",
    "  character = chr(65 + index)\n",
    "  cv2.putText(con, character, tuple(c), cv2.FONT_HERSHEY_SIMPLEX, 1, (255, 0, 0), 1, cv2.LINE_AA)"
   ],
   "id": "1cef3c5281c6df39",
   "outputs": [],
   "execution_count": 60
  },
  {
   "metadata": {
    "ExecuteTime": {
     "end_time": "2024-11-20T16:52:57.567056Z",
     "start_time": "2024-11-20T16:52:57.563820Z"
    }
   },
   "cell_type": "code",
   "source": [
    "def order_points(pts):\n",
    "    rect = np.zeros((4, 2), dtype='float32')\n",
    "    pts = np.array(pts)\n",
    "    s = pts.sum(axis=1)\n",
    "    # Top-left point will have the smallest sum.\n",
    "    rect[0] = pts[np.argmin(s)]\n",
    "    # Bottom-right point will have the largest sum.\n",
    "    rect[2] = pts[np.argmax(s)]\n",
    "\n",
    "    diff = np.diff(pts, axis=1)\n",
    "    # Top-right point will have the smallest difference.\n",
    "    rect[1] = pts[np.argmin(diff)]\n",
    "    # Bottom-left will have the largest difference.\n",
    "    rect[3] = pts[np.argmax(diff)]\n",
    "    # Return the ordered coordinates.\n",
    "    return rect.astype('int').tolist()"
   ],
   "id": "4a018dfcbb1b34e7",
   "outputs": [],
   "execution_count": 61
  },
  {
   "metadata": {
    "ExecuteTime": {
     "end_time": "2024-11-20T16:53:00.428770Z",
     "start_time": "2024-11-20T16:53:00.413514Z"
    }
   },
   "cell_type": "code",
   "source": [
    "(tl, tr, br, bl) = pts\n",
    "# Finding the maximum width.\n",
    "widthA = np.sqrt(((br[0] - bl[0]) ** 2) + ((br[1] - bl[1]) ** 2))\n",
    "widthB = np.sqrt(((tr[0] - tl[0]) ** 2) + ((tr[1] - tl[1]) ** 2))\n",
    "maxWidth = max(int(widthA), int(widthB))\n",
    "# Finding the maximum height.\n",
    "heightA = np.sqrt(((tr[0] - br[0]) ** 2) + ((tr[1] - br[1]) ** 2))\n",
    "heightB = np.sqrt(((tl[0] - bl[0]) ** 2) + ((tl[1] - bl[1]) ** 2))\n",
    "maxHeight = max(int(heightA), int(heightB))\n",
    "# Final destination co-ordinates.\n",
    "destination_corners = [[0, 0], [maxWidth, 0], [maxWidth, maxHeight], [0, maxHeight]]"
   ],
   "id": "6ebe9ad95533d5d4",
   "outputs": [
    {
     "ename": "NameError",
     "evalue": "name 'pts' is not defined",
     "output_type": "error",
     "traceback": [
      "\u001B[0;31m---------------------------------------------------------------------------\u001B[0m",
      "\u001B[0;31mNameError\u001B[0m                                 Traceback (most recent call last)",
      "Cell \u001B[0;32mIn[62], line 1\u001B[0m\n\u001B[0;32m----> 1\u001B[0m (tl, tr, br, bl) \u001B[38;5;241m=\u001B[39m \u001B[43mpts\u001B[49m\n\u001B[1;32m      2\u001B[0m \u001B[38;5;66;03m# Finding the maximum width.\u001B[39;00m\n\u001B[1;32m      3\u001B[0m widthA \u001B[38;5;241m=\u001B[39m np\u001B[38;5;241m.\u001B[39msqrt(((br[\u001B[38;5;241m0\u001B[39m] \u001B[38;5;241m-\u001B[39m bl[\u001B[38;5;241m0\u001B[39m]) \u001B[38;5;241m*\u001B[39m\u001B[38;5;241m*\u001B[39m \u001B[38;5;241m2\u001B[39m) \u001B[38;5;241m+\u001B[39m ((br[\u001B[38;5;241m1\u001B[39m] \u001B[38;5;241m-\u001B[39m bl[\u001B[38;5;241m1\u001B[39m]) \u001B[38;5;241m*\u001B[39m\u001B[38;5;241m*\u001B[39m \u001B[38;5;241m2\u001B[39m))\n",
      "\u001B[0;31mNameError\u001B[0m: name 'pts' is not defined"
     ]
    }
   ],
   "execution_count": 62
  },
  {
   "metadata": {},
   "cell_type": "code",
   "outputs": [],
   "execution_count": null,
   "source": [
    "# Getting the homography.\n",
    "M = cv2.getPerspectiveTransform(np.float32(corners), np.float32(destination_corners))\n",
    "# Perspective transform using homography.\n",
    "final = cv2.warpPerspective(orig_img, M, (destination_corners[2][0], destination_corners[2][1]), flags=cv2.INTER_LINEAR)\n",
    "\n",
    "cv2.imshow('Original', img)\n",
    "cv2.imshow('final', final)\n",
    "cv2.waitKey()\n",
    "cv2.destroyAllWindows()"
   ],
   "id": "3a14fe809e41d536"
  }
 ],
 "metadata": {
  "kernelspec": {
   "display_name": "Python 3",
   "language": "python",
   "name": "python3"
  },
  "language_info": {
   "codemirror_mode": {
    "name": "ipython",
    "version": 2
   },
   "file_extension": ".py",
   "mimetype": "text/x-python",
   "name": "python",
   "nbconvert_exporter": "python",
   "pygments_lexer": "ipython2",
   "version": "2.7.6"
  }
 },
 "nbformat": 4,
 "nbformat_minor": 5
}
